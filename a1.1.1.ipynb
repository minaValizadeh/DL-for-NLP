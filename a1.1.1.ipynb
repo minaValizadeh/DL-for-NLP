{
 "cells": [
  {
   "cell_type": "markdown",
   "metadata": {},
   "source": [
    "Mina Valizadeh\n",
    "\n",
    "UIN: 667738558\n",
    "\n",
    "Homework1 CS594"
   ]
  },
  {
   "cell_type": "code",
   "execution_count": 1,
   "metadata": {},
   "outputs": [
    {
     "name": "stderr",
     "output_type": "stream",
     "text": [
      "Using TensorFlow backend.\n"
     ]
    }
   ],
   "source": [
    "import tensorflow as tf\n",
    "import numpy as np \n",
    "import pandas as pd\n",
    "from pylab import *\n",
    "from tensorflow import set_random_seed\n",
    "from sklearn.datasets import load_boston\n",
    "from sklearn import preprocessing\n",
    "from sklearn.model_selection import train_test_split\n",
    "from tensorflow import keras\n",
    "from keras.models import Sequential\n",
    "from keras.layers import Dense\n",
    "from keras import optimizers\n",
    "\n",
    "\n",
    "\n",
    "BATCH_SIZE = 1\n",
    "SEED = 100\n",
    "np.random.seed(SEED)\n",
    "set_random_seed(SEED)\n",
    "\n",
    "\n",
    "housing_data= load_boston()\n",
    "Data=housing_data['data']\n",
    "Label=housing_data['target']\n",
    "\n",
    "#Normalizing data, all the features will be in range [0,1]\n",
    "Data= preprocessing.normalize(Data)\n",
    "\n",
    "# splitting data to train and test set\n",
    "X, X_test, Y, y_test = train_test_split(Data, Label, test_size=0.3,random_state=SEED)\n",
    "# splitting train to train and validation set\n",
    "X_train, X_val, y_train, y_val= train_test_split(X, Y, test_size=0.1,random_state=SEED)\n",
    "\n",
    "\n",
    "def house_model(x,y,lr):\n",
    "    \n",
    "    model = Sequential()\n",
    "    model.add(Dense(1, input_dim=13))\n",
    "    adam=optimizers.Adam(learning_rate=lr)\n",
    "    model.compile(optimizer=adam,loss='mean_squared_error')\n",
    "    history=model.fit(x,y,epochs=30, validation_data=(X_val, y_val))\n",
    "    \n",
    "    \n",
    "    training_loss = history.history['loss']\n",
    "    validation_loss = history.history['val_loss']\n",
    "\n",
    "    # number of epochs\n",
    "    epoch_count = range(1, len(training_loss) + 1)\n",
    "\n",
    "   # Visualize loss history\n",
    "    plt.plot(epoch_count, training_loss, 'r--')\n",
    "    plt.plot(epoch_count, validation_loss, 'b-')\n",
    "    plt.legend(['Training Loss', 'Validation Loss'])\n",
    "    plt.xlabel('Epoch')\n",
    "    plt.ylabel('Loss')\n",
    "    plt.show();\n",
    "    \n",
    "    return model"
   ]
  },
  {
   "cell_type": "code",
   "execution_count": 2,
   "metadata": {},
   "outputs": [
    {
     "name": "stdout",
     "output_type": "stream",
     "text": [
      "WARNING:tensorflow:From C:\\Users\\Mina\\Anaconda3\\lib\\site-packages\\keras\\backend\\tensorflow_backend.py:422: The name tf.global_variables is deprecated. Please use tf.compat.v1.global_variables instead.\n",
      "\n",
      "Train on 318 samples, validate on 36 samples\n",
      "Epoch 1/30\n",
      "318/318 [==============================] - 0s 295us/step - loss: 596.4879 - val_loss: 625.0671\n",
      "Epoch 2/30\n",
      "318/318 [==============================] - 0s 44us/step - loss: 584.5979 - val_loss: 612.8692\n",
      "Epoch 3/30\n",
      "318/318 [==============================] - 0s 44us/step - loss: 573.0475 - val_loss: 600.7284\n",
      "Epoch 4/30\n",
      "318/318 [==============================] - 0s 44us/step - loss: 561.4889 - val_loss: 588.8764\n",
      "Epoch 5/30\n",
      "318/318 [==============================] - 0s 47us/step - loss: 550.2982 - val_loss: 577.1276\n",
      "Epoch 6/30\n",
      "318/318 [==============================] - 0s 47us/step - loss: 539.2583 - val_loss: 565.5407\n",
      "Epoch 7/30\n",
      "318/318 [==============================] - 0s 41us/step - loss: 528.4239 - val_loss: 554.1638\n",
      "Epoch 8/30\n",
      "318/318 [==============================] - 0s 38us/step - loss: 517.6946 - val_loss: 543.0651\n",
      "Epoch 9/30\n",
      "318/318 [==============================] - 0s 41us/step - loss: 507.1787 - val_loss: 532.1858\n",
      "Epoch 10/30\n",
      "318/318 [==============================] - 0s 38us/step - loss: 496.8980 - val_loss: 521.4859\n",
      "Epoch 11/30\n",
      "318/318 [==============================] - 0s 41us/step - loss: 486.8265 - val_loss: 510.9232\n",
      "Epoch 12/30\n",
      "318/318 [==============================] - 0s 41us/step - loss: 476.9457 - val_loss: 500.4885\n",
      "Epoch 13/30\n",
      "318/318 [==============================] - 0s 44us/step - loss: 467.1354 - val_loss: 490.3025\n",
      "Epoch 14/30\n",
      "318/318 [==============================] - 0s 47us/step - loss: 457.5133 - val_loss: 480.3469\n",
      "Epoch 15/30\n",
      "318/318 [==============================] - 0s 50us/step - loss: 448.2632 - val_loss: 470.4568\n",
      "Epoch 16/30\n",
      "318/318 [==============================] - 0s 47us/step - loss: 438.9302 - val_loss: 460.8624\n",
      "Epoch 17/30\n",
      "318/318 [==============================] - 0s 47us/step - loss: 429.8892 - val_loss: 451.4330\n",
      "Epoch 18/30\n",
      "318/318 [==============================] - 0s 41us/step - loss: 421.1110 - val_loss: 442.0925\n",
      "Epoch 19/30\n",
      "318/318 [==============================] - 0s 47us/step - loss: 412.3516 - val_loss: 432.9850\n",
      "Epoch 20/30\n",
      "318/318 [==============================] - 0s 38us/step - loss: 403.9817 - val_loss: 423.9067\n",
      "Epoch 21/30\n",
      "318/318 [==============================] - 0s 41us/step - loss: 395.4161 - val_loss: 415.2045\n",
      "Epoch 22/30\n",
      "318/318 [==============================] - 0s 44us/step - loss: 387.2265 - val_loss: 406.6610\n",
      "Epoch 23/30\n",
      "318/318 [==============================] - 0s 41us/step - loss: 379.2690 - val_loss: 398.2062\n",
      "Epoch 24/30\n",
      "318/318 [==============================] - 0s 44us/step - loss: 371.3372 - val_loss: 389.9642\n",
      "Epoch 25/30\n",
      "318/318 [==============================] - 0s 44us/step - loss: 363.7011 - val_loss: 381.7989\n",
      "Epoch 26/30\n",
      "318/318 [==============================] - 0s 47us/step - loss: 356.1302 - val_loss: 373.8000\n",
      "Epoch 27/30\n",
      "318/318 [==============================] - 0s 44us/step - loss: 348.6375 - val_loss: 366.0458\n",
      "Epoch 28/30\n",
      "318/318 [==============================] - 0s 41us/step - loss: 341.4378 - val_loss: 358.3763\n",
      "Epoch 29/30\n",
      "318/318 [==============================] - 0s 47us/step - loss: 334.3877 - val_loss: 350.7989\n",
      "Epoch 30/30\n",
      "318/318 [==============================] - 0s 44us/step - loss: 327.2958 - val_loss: 343.5067\n"
     ]
    },
    {
     "data": {
      "image/png": "[encoded data removed]",
      "text/plain": [
       "<Figure size 432x288 with 1 Axes>"
      ]
     },
     "metadata": {
      "needs_background": "light"
     },
     "output_type": "display_data"
    }
   ],
   "source": [
    "model1 = house_model(X_train,y_train,0.01)"
   ]
  },
  {
   "cell_type": "code",
   "execution_count": 3,
   "metadata": {},
   "outputs": [
    {
     "name": "stdout",
     "output_type": "stream",
     "text": [
      "Train on 318 samples, validate on 36 samples\n",
      "Epoch 1/30\n",
      "318/318 [==============================] - 0s 257us/step - loss: 578.7820 - val_loss: 593.5642\n",
      "Epoch 2/30\n",
      "318/318 [==============================] - 0s 41us/step - loss: 544.8491 - val_loss: 558.2360\n",
      "Epoch 3/30\n",
      "318/318 [==============================] - 0s 47us/step - loss: 511.6433 - val_loss: 524.6847\n",
      "Epoch 4/30\n",
      "318/318 [==============================] - 0s 50us/step - loss: 480.4733 - val_loss: 492.5991\n",
      "Epoch 5/30\n",
      "318/318 [==============================] - 0s 41us/step - loss: 450.9597 - val_loss: 462.1204\n",
      "Epoch 6/30\n",
      "318/318 [==============================] - 0s 47us/step - loss: 422.8444 - val_loss: 433.5759\n",
      "Epoch 7/30\n",
      "318/318 [==============================] - 0s 44us/step - loss: 396.9083 - val_loss: 406.2914\n",
      "Epoch 8/30\n",
      "318/318 [==============================] - 0s 44us/step - loss: 371.7060 - val_loss: 381.0089\n",
      "Epoch 9/30\n",
      "318/318 [==============================] - 0s 38us/step - loss: 348.4516 - val_loss: 357.1722\n",
      "Epoch 10/30\n",
      "318/318 [==============================] - 0s 44us/step - loss: 326.5788 - val_loss: 334.8171\n",
      "Epoch 11/30\n",
      "318/318 [==============================] - 0s 41us/step - loss: 306.2361 - val_loss: 313.7146\n",
      "Epoch 12/30\n",
      "318/318 [==============================] - 0s 38us/step - loss: 287.5828 - val_loss: 293.5411\n",
      "Epoch 13/30\n",
      "318/318 [==============================] - 0s 38us/step - loss: 269.2055 - val_loss: 275.1789\n",
      "Epoch 14/30\n",
      "318/318 [==============================] - 0s 47us/step - loss: 252.7586 - val_loss: 257.8277\n",
      "Epoch 15/30\n",
      "318/318 [==============================] - 0s 44us/step - loss: 237.1860 - val_loss: 241.7358\n",
      "Epoch 16/30\n",
      "318/318 [==============================] - 0s 41us/step - loss: 223.0085 - val_loss: 226.5430\n",
      "Epoch 17/30\n",
      "318/318 [==============================] - 0s 44us/step - loss: 209.4969 - val_loss: 212.5438\n",
      "Epoch 18/30\n",
      "318/318 [==============================] - 0s 44us/step - loss: 197.0539 - val_loss: 199.6247\n",
      "Epoch 19/30\n",
      "318/318 [==============================] - 0s 41us/step - loss: 185.7590 - val_loss: 187.5298\n",
      "Epoch 20/30\n",
      "318/318 [==============================] - 0s 47us/step - loss: 175.0828 - val_loss: 176.4697\n",
      "Epoch 21/30\n",
      "318/318 [==============================] - 0s 60us/step - loss: 165.5310 - val_loss: 166.0929\n",
      "Epoch 22/30\n",
      "318/318 [==============================] - 0s 44us/step - loss: 156.4071 - val_loss: 156.7229\n",
      "Epoch 23/30\n",
      "318/318 [==============================] - 0s 41us/step - loss: 148.4746 - val_loss: 147.8056\n",
      "Epoch 24/30\n",
      "318/318 [==============================] - 0s 44us/step - loss: 140.9635 - val_loss: 139.6270\n",
      "Epoch 25/30\n",
      "318/318 [==============================] - 0s 47us/step - loss: 134.0843 - val_loss: 132.1701\n",
      "Epoch 26/30\n",
      "318/318 [==============================] - 0s 47us/step - loss: 127.7437 - val_loss: 125.4444\n",
      "Epoch 27/30\n",
      "318/318 [==============================] - 0s 47us/step - loss: 122.1152 - val_loss: 119.2161\n",
      "Epoch 28/30\n",
      "318/318 [==============================] - 0s 47us/step - loss: 116.9174 - val_loss: 113.5476\n",
      "Epoch 29/30\n",
      "318/318 [==============================] - 0s 47us/step - loss: 112.1152 - val_loss: 108.4977\n",
      "Epoch 30/30\n",
      "318/318 [==============================] - 0s 47us/step - loss: 108.0681 - val_loss: 103.6543\n"
     ]
    },
    {
     "data": {
      "image/png": "[encoded data removed]",
      "text/plain": [
       "<Figure size 432x288 with 1 Axes>"
      ]
     },
     "metadata": {
      "needs_background": "light"
     },
     "output_type": "display_data"
    }
   ],
   "source": [
    "model2 = house_model(X_train,y_train,0.03)"
   ]
  },
  {
   "cell_type": "code",
   "execution_count": 4,
   "metadata": {},
   "outputs": [
    {
     "name": "stdout",
     "output_type": "stream",
     "text": [
      "Train on 318 samples, validate on 36 samples\n",
      "Epoch 1/30\n",
      "318/318 [==============================] - 0s 288us/step - loss: 529.6752 - val_loss: 499.0003\n",
      "Epoch 2/30\n",
      "318/318 [==============================] - 0s 41us/step - loss: 426.6238 - val_loss: 399.3251\n",
      "Epoch 3/30\n",
      "318/318 [==============================] - 0s 41us/step - loss: 339.8147 - val_loss: 315.9893\n",
      "Epoch 4/30\n",
      "318/318 [==============================] - 0s 50us/step - loss: 269.0170 - val_loss: 248.7839\n",
      "Epoch 5/30\n",
      "318/318 [==============================] - 0s 38us/step - loss: 213.3108 - val_loss: 196.1569\n",
      "Epoch 6/30\n",
      "318/318 [==============================] - 0s 44us/step - loss: 170.6352 - val_loss: 156.2050\n",
      "Epoch 7/30\n",
      "318/318 [==============================] - 0s 47us/step - loss: 139.3330 - val_loss: 126.6855\n",
      "Epoch 8/30\n",
      "318/318 [==============================] - 0s 47us/step - loss: 117.5593 - val_loss: 104.9121\n",
      "Epoch 9/30\n",
      "318/318 [==============================] - 0s 41us/step - loss: 101.5917 - val_loss: 89.9920\n",
      "Epoch 10/30\n",
      "318/318 [==============================] - 0s 41us/step - loss: 90.9263 - val_loss: 79.8771\n",
      "Epoch 11/30\n",
      "318/318 [==============================] - 0s 44us/step - loss: 84.2006 - val_loss: 72.8839\n",
      "Epoch 12/30\n",
      "318/318 [==============================] - 0s 47us/step - loss: 79.6169 - val_loss: 68.3116\n",
      "Epoch 13/30\n",
      "318/318 [==============================] - ETA: 0s - loss: 73.77 - 0s 50us/step - loss: 76.8719 - val_loss: 65.1286\n",
      "Epoch 14/30\n",
      "318/318 [==============================] - 0s 47us/step - loss: 74.9573 - val_loss: 63.0154\n",
      "Epoch 15/30\n",
      "318/318 [==============================] - 0s 44us/step - loss: 73.7254 - val_loss: 61.5841\n",
      "Epoch 16/30\n",
      "318/318 [==============================] - 0s 44us/step - loss: 72.8097 - val_loss: 60.6223\n",
      "Epoch 17/30\n",
      "318/318 [==============================] - 0s 53us/step - loss: 71.9656 - val_loss: 60.0624\n",
      "Epoch 18/30\n",
      "318/318 [==============================] - 0s 44us/step - loss: 71.3588 - val_loss: 59.5026\n",
      "Epoch 19/30\n",
      "318/318 [==============================] - 0s 47us/step - loss: 70.6906 - val_loss: 59.1489\n",
      "Epoch 20/30\n",
      "318/318 [==============================] - 0s 50us/step - loss: 70.0943 - val_loss: 58.8421\n",
      "Epoch 21/30\n",
      "318/318 [==============================] - 0s 44us/step - loss: 69.4914 - val_loss: 58.6739\n",
      "Epoch 22/30\n",
      "318/318 [==============================] - 0s 41us/step - loss: 68.9264 - val_loss: 58.5575\n",
      "Epoch 23/30\n",
      "318/318 [==============================] - 0s 44us/step - loss: 68.3708 - val_loss: 58.2187\n",
      "Epoch 24/30\n",
      "318/318 [==============================] - 0s 44us/step - loss: 67.7913 - val_loss: 57.9971\n",
      "Epoch 25/30\n",
      "318/318 [==============================] - 0s 47us/step - loss: 67.1953 - val_loss: 57.8803\n",
      "Epoch 26/30\n",
      "318/318 [==============================] - 0s 47us/step - loss: 66.6856 - val_loss: 57.7130\n",
      "Epoch 27/30\n",
      "318/318 [==============================] - 0s 47us/step - loss: 66.1237 - val_loss: 57.5877\n",
      "Epoch 28/30\n",
      "318/318 [==============================] - 0s 44us/step - loss: 65.5676 - val_loss: 57.4154\n",
      "Epoch 29/30\n",
      "318/318 [==============================] - 0s 44us/step - loss: 65.0371 - val_loss: 57.2452\n",
      "Epoch 30/30\n",
      "318/318 [==============================] - 0s 47us/step - loss: 64.5190 - val_loss: 57.1315\n"
     ]
    },
    {
     "data": {
      "image/png": "[encoded data removed]",
      "text/plain": [
       "<Figure size 432x288 with 1 Axes>"
      ]
     },
     "metadata": {
      "needs_background": "light"
     },
     "output_type": "display_data"
    }
   ],
   "source": [
    "model3 = house_model(X_train,y_train,0.1)"
   ]
  },
  {
   "cell_type": "code",
   "execution_count": 5,
   "metadata": {},
   "outputs": [
    {
     "name": "stdout",
     "output_type": "stream",
     "text": [
      "Train on 318 samples, validate on 36 samples\n",
      "Epoch 1/30\n",
      "318/318 [==============================] - 0s 308us/step - loss: 361.8966 - val_loss: 176.3363\n",
      "Epoch 2/30\n",
      "318/318 [==============================] - 0s 44us/step - loss: 108.5654 - val_loss: 61.0489\n",
      "Epoch 3/30\n",
      "318/318 [==============================] - 0s 38us/step - loss: 82.0918 - val_loss: 65.0855\n",
      "Epoch 4/30\n",
      "318/318 [==============================] - 0s 41us/step - loss: 83.0485 - val_loss: 59.0183\n",
      "Epoch 5/30\n",
      "318/318 [==============================] - 0s 41us/step - loss: 70.8851 - val_loss: 58.9777\n",
      "Epoch 6/30\n",
      "318/318 [==============================] - 0s 44us/step - loss: 67.6309 - val_loss: 60.8818\n",
      "Epoch 7/30\n",
      "318/318 [==============================] - 0s 44us/step - loss: 64.7164 - val_loss: 57.6650\n",
      "Epoch 8/30\n",
      "318/318 [==============================] - 0s 44us/step - loss: 61.7448 - val_loss: 55.6399\n",
      "Epoch 9/30\n",
      "318/318 [==============================] - 0s 44us/step - loss: 59.7168 - val_loss: 55.9357\n",
      "Epoch 10/30\n",
      "318/318 [==============================] - 0s 50us/step - loss: 57.4858 - val_loss: 55.9593\n",
      "Epoch 11/30\n",
      "318/318 [==============================] - 0s 47us/step - loss: 55.9890 - val_loss: 56.0477\n",
      "Epoch 12/30\n",
      "318/318 [==============================] - 0s 47us/step - loss: 54.5429 - val_loss: 55.7957\n",
      "Epoch 13/30\n",
      "318/318 [==============================] - 0s 44us/step - loss: 53.3133 - val_loss: 56.2059\n",
      "Epoch 14/30\n",
      "318/318 [==============================] - 0s 41us/step - loss: 52.3235 - val_loss: 56.2389\n",
      "Epoch 15/30\n",
      "318/318 [==============================] - 0s 44us/step - loss: 51.6341 - val_loss: 56.1478\n",
      "Epoch 16/30\n",
      "318/318 [==============================] - 0s 47us/step - loss: 51.0333 - val_loss: 56.4987\n",
      "Epoch 17/30\n",
      "318/318 [==============================] - 0s 41us/step - loss: 50.3010 - val_loss: 56.6501\n",
      "Epoch 18/30\n",
      "318/318 [==============================] - 0s 38us/step - loss: 49.8910 - val_loss: 56.6851\n",
      "Epoch 19/30\n",
      "318/318 [==============================] - 0s 47us/step - loss: 49.6334 - val_loss: 57.3004\n",
      "Epoch 20/30\n",
      "318/318 [==============================] - 0s 44us/step - loss: 49.0633 - val_loss: 56.6993\n",
      "Epoch 21/30\n",
      "318/318 [==============================] - 0s 44us/step - loss: 48.9980 - val_loss: 56.6268\n",
      "Epoch 22/30\n",
      "318/318 [==============================] - 0s 44us/step - loss: 48.7491 - val_loss: 57.6394\n",
      "Epoch 23/30\n",
      "318/318 [==============================] - 0s 44us/step - loss: 48.2399 - val_loss: 56.7496\n",
      "Epoch 24/30\n",
      "318/318 [==============================] - 0s 47us/step - loss: 47.9567 - val_loss: 56.5542\n",
      "Epoch 25/30\n",
      "318/318 [==============================] - 0s 47us/step - loss: 47.7881 - val_loss: 56.5629\n",
      "Epoch 26/30\n",
      "318/318 [==============================] - 0s 47us/step - loss: 47.6098 - val_loss: 56.4939\n",
      "Epoch 27/30\n",
      "318/318 [==============================] - 0s 44us/step - loss: 47.3546 - val_loss: 56.1395\n",
      "Epoch 28/30\n",
      "318/318 [==============================] - 0s 47us/step - loss: 47.4319 - val_loss: 56.3520\n",
      "Epoch 29/30\n",
      "318/318 [==============================] - 0s 44us/step - loss: 46.9318 - val_loss: 56.0148\n",
      "Epoch 30/30\n",
      "318/318 [==============================] - 0s 47us/step - loss: 46.9793 - val_loss: 55.2535\n"
     ]
    },
    {
     "data": {
      "image/png": "[encoded data removed]",
      "text/plain": [
       "<Figure size 432x288 with 1 Axes>"
      ]
     },
     "metadata": {
      "needs_background": "light"
     },
     "output_type": "display_data"
    }
   ],
   "source": [
    "model4 = house_model(X_train,y_train,0.5)"
   ]
  },
  {
   "cell_type": "code",
   "execution_count": 6,
   "metadata": {},
   "outputs": [
    {
     "name": "stdout",
     "output_type": "stream",
     "text": [
      "Train on 318 samples, validate on 36 samples\n",
      "Epoch 1/30\n",
      "318/318 [==============================] - 0s 369us/step - loss: 324.6149 - val_loss: 107.2523\n",
      "Epoch 2/30\n",
      "318/318 [==============================] - 0s 31us/step - loss: 87.7251 - val_loss: 69.2868\n",
      "Epoch 3/30\n",
      "318/318 [==============================] - 0s 44us/step - loss: 92.7095 - val_loss: 62.5908\n",
      "Epoch 4/30\n",
      "318/318 [==============================] - 0s 44us/step - loss: 73.8545 - val_loss: 60.2036\n",
      "Epoch 5/30\n",
      "318/318 [==============================] - 0s 47us/step - loss: 66.4344 - val_loss: 60.7483\n",
      "Epoch 6/30\n",
      "318/318 [==============================] - 0s 47us/step - loss: 61.3949 - val_loss: 55.9201\n",
      "Epoch 7/30\n",
      "318/318 [==============================] - 0s 47us/step - loss: 58.5803 - val_loss: 55.2483\n",
      "Epoch 8/30\n",
      "318/318 [==============================] - 0s 50us/step - loss: 56.5123 - val_loss: 56.4441\n",
      "Epoch 9/30\n",
      "318/318 [==============================] - 0s 44us/step - loss: 54.3837 - val_loss: 56.3689\n",
      "Epoch 10/30\n",
      "318/318 [==============================] - 0s 44us/step - loss: 53.0552 - val_loss: 56.3955\n",
      "Epoch 11/30\n",
      "318/318 [==============================] - 0s 38us/step - loss: 52.1365 - val_loss: 57.3982\n",
      "Epoch 12/30\n",
      "318/318 [==============================] - 0s 41us/step - loss: 50.9573 - val_loss: 56.9479\n",
      "Epoch 13/30\n",
      "318/318 [==============================] - 0s 44us/step - loss: 50.2567 - val_loss: 56.9804\n",
      "Epoch 14/30\n",
      "318/318 [==============================] - 0s 47us/step - loss: 49.9370 - val_loss: 56.8550\n",
      "Epoch 15/30\n",
      "318/318 [==============================] - 0s 44us/step - loss: 49.6545 - val_loss: 58.4400\n",
      "Epoch 16/30\n",
      "318/318 [==============================] - 0s 47us/step - loss: 50.0703 - val_loss: 56.7261\n",
      "Epoch 17/30\n",
      "318/318 [==============================] - 0s 41us/step - loss: 48.5273 - val_loss: 58.2388\n",
      "Epoch 18/30\n",
      "318/318 [==============================] - 0s 41us/step - loss: 48.3736 - val_loss: 56.8099\n",
      "Epoch 19/30\n",
      "318/318 [==============================] - 0s 44us/step - loss: 48.0402 - val_loss: 57.0053\n",
      "Epoch 20/30\n",
      "318/318 [==============================] - 0s 47us/step - loss: 47.7022 - val_loss: 56.3413\n",
      "Epoch 21/30\n",
      "318/318 [==============================] - 0s 47us/step - loss: 47.3770 - val_loss: 56.7557\n",
      "Epoch 22/30\n",
      "318/318 [==============================] - 0s 47us/step - loss: 47.1517 - val_loss: 56.4205\n",
      "Epoch 23/30\n",
      "318/318 [==============================] - 0s 47us/step - loss: 46.9090 - val_loss: 55.6564\n",
      "Epoch 24/30\n",
      "318/318 [==============================] - 0s 44us/step - loss: 46.6568 - val_loss: 56.1016\n",
      "Epoch 25/30\n",
      "318/318 [==============================] - 0s 38us/step - loss: 46.5446 - val_loss: 55.3902\n",
      "Epoch 26/30\n",
      "318/318 [==============================] - 0s 53us/step - loss: 45.9771 - val_loss: 54.7639\n",
      "Epoch 27/30\n",
      "318/318 [==============================] - 0s 50us/step - loss: 45.7129 - val_loss: 54.1362\n",
      "Epoch 28/30\n",
      "318/318 [==============================] - 0s 50us/step - loss: 45.4962 - val_loss: 53.8062\n",
      "Epoch 29/30\n",
      "318/318 [==============================] - 0s 50us/step - loss: 45.4873 - val_loss: 53.6619\n",
      "Epoch 30/30\n",
      "318/318 [==============================] - 0s 60us/step - loss: 44.9300 - val_loss: 53.7937\n"
     ]
    },
    {
     "data": {
      "image/png": "[encoded data removed]",
      "text/plain": [
       "<Figure size 432x288 with 1 Axes>"
      ]
     },
     "metadata": {
      "needs_background": "light"
     },
     "output_type": "display_data"
    }
   ],
   "source": [
    "model5 = house_model(X_train,y_train,0.7)"
   ]
  },
  {
   "cell_type": "code",
   "execution_count": 7,
   "metadata": {
    "scrolled": true
   },
   "outputs": [
    {
     "data": {
      "text/plain": [
       "69.41175802130448"
      ]
     },
     "execution_count": 7,
     "metadata": {},
     "output_type": "execute_result"
    }
   ],
   "source": [
    "model5.evaluate(X_test,y_test,verbose=0)"
   ]
  },
  {
   "cell_type": "markdown",
   "metadata": {},
   "source": [
    "For my best model which is model 5 (with learning rate=0.7 and number of epochs=30) the loss is equal:\n",
    "\n",
    "Training loss: % 44.93\n",
    "\n",
    "Validation loss: % 53.79\n",
    "\n",
    "Test loss: % 69.41\n",
    "\n",
    "By choosing 30 epochs and learning rate=0.7, my model converges! In addition, we have the minimum value of loss for the best model which has the best performance!"
   ]
  }
 ],
 "metadata": {
  "kernelspec": {
   "display_name": "Python 3",
   "language": "python",
   "name": "python3"
  },
  "language_info": {
   "codemirror_mode": {
    "name": "ipython",
    "version": 3
   },
   "file_extension": ".py",
   "mimetype": "text/x-python",
   "name": "python",
   "nbconvert_exporter": "python",
   "pygments_lexer": "ipython3",
   "version": "3.7.3"
  }
 },
 "nbformat": 4,
 "nbformat_minor": 2
}
